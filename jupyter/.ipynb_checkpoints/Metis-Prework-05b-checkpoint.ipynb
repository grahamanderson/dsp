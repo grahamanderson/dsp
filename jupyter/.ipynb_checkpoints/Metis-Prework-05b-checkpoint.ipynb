{
 "cells": [
  {
   "cell_type": "code",
   "execution_count": 32,
   "metadata": {
    "collapsed": false
   },
   "outputs": [
    {
     "name": "stdout",
     "output_type": "stream",
     "text": [
      " Ph.D.                 15\n",
      " PhD                    7\n",
      " Ph.D                   4\n",
      " Sc.D.                  4\n",
      " MD MPH Ph.D            1\n",
      "Ph.D.                   1\n",
      " B.S.Ed. M.S. Ph.D.     1\n",
      " PhD ScD                1\n",
      "0                       1\n",
      " ScD                    1\n",
      " JD MA MPH MS PhD       1\n",
      "Name: degree, dtype: int64\n"
     ]
    }
   ],
   "source": [
    "import pandas as pd\n",
    "import numpy as np\n",
    "df = pd.read_csv('faculty.csv')\n",
    "df.rename(columns=lambda x: x.strip())\n",
    "counts = df[\"degree\"].value_counts()\n",
    "print(counts)\n",
    "\n",
    "#df.head()\n",
    "#print(df.columns)\n",
    "#print(df['degree'])\n",
    "#police_killings[\"raceethnicity\"].value_counts()\n",
    "\n",
    "\n",
    "#counts = police_killings[\"state_fp\"].value_counts()"
   ]
  },
  {
   "cell_type": "code",
   "execution_count": 40,
   "metadata": {
    "collapsed": false
   },
   "outputs": [
    {
     "name": "stdout",
     "output_type": "stream",
     "text": [
      "Professor of Biostatistics              13\n",
      "Associate Professor of Biostatistics    12\n",
      "Assistant Professor of Biostatistics    11\n",
      "Assistant Professor is Biostatistics     1\n",
      "Name: title, dtype: int64\n"
     ]
    }
   ],
   "source": [
    "import pandas as pd\n",
    "import numpy as np\n",
    "df = pd.read_csv('faculty.csv')\n",
    "df.rename(columns=lambda x: x.strip())\n",
    "counts = df[\"title\"].value_counts()\n",
    "print(counts)\n",
    "#df.head(30)\n",
    "#print(df.columns)\n",
    "#print(df['degree'])\n",
    "#police_killings[\"raceethnicity\"].value_counts()\n",
    "\n",
    "\n",
    "#counts = police_killings[\"state_fp\"].value_counts()"
   ]
  },
  {
   "cell_type": "code",
   "execution_count": 41,
   "metadata": {
    "collapsed": false
   },
   "outputs": [
    {
     "name": "stdout",
     "output_type": "stream",
     "text": [
      "['bellamys@mail.med.upenn.edu', 'warren@upenn.edu', 'bryanma@upenn.edu', 'jinboche@upenn.edu', 'sellenbe@upenn.edu', 'jellenbe@mail.med.upenn.edu', 'ruifeng@upenn.edu', 'bcfrench@mail.med.upenn.edu', 'pgimotty@upenn.edu', 'wguo@mail.med.upenn.edu', 'hsu9@mail.med.upenn.edu', 'rhubb@mail.med.upenn.edu', 'whwang@mail.med.upenn.edu', 'mjoffe@mail.med.upenn.edu', 'jrlandis@mail.med.upenn.edu', 'liy3@email.chop.edu', 'mingyao@mail.med.upenn.edu', 'hongzhe@upenn.edu', 'rlocalio@upenn.edu', 'nanditam@mail.med.upenn.edu', 'knashawn@mail.med.upenn.edu', 'propert@mail.med.upenn.edu', 'mputt@mail.med.upenn.edu', 'sratclif@upenn.edu', 'michross@upenn.edu', 'jaroy@mail.med.upenn.edu', 'msammel@cceb.med.upenn.edu', 'shawp@upenn.edu', 'rshi@mail.med.upenn.edu', 'hshou@mail.med.upenn.edu', 'jshults@mail.med.upenn.edu', 'alisaste@mail.med.upenn.edu', 'atroxel@mail.med.upenn.edu', 'rxiao@mail.med.upenn.edu', 'sxie@mail.med.upenn.edu', 'dxie@upenn.edu', 'weiyang@mail.med.upenn.edu']\n"
     ]
    }
   ],
   "source": [
    "import pandas as pd\n",
    "import numpy as np\n",
    "df = pd.read_csv('faculty.csv')\n",
    "df.rename(columns=lambda x: x.strip())\n",
    "print(df[\"email\"].tolist())\n"
   ]
  },
  {
   "cell_type": "code",
   "execution_count": 64,
   "metadata": {
    "collapsed": false
   },
   "outputs": [
    {
     "data": {
      "text/plain": [
       "mail.med.upenn.edu    23\n",
       "upenn.edu             12\n",
       "email.chop.edu         1\n",
       "cceb.med.upenn.edu     1\n",
       "Name: domain, dtype: int64"
      ]
     },
     "execution_count": 64,
     "metadata": {},
     "output_type": "execute_result"
    }
   ],
   "source": [
    "import pandas as pd\n",
    "import numpy as np\n",
    "df = pd.read_csv('faculty.csv')\n",
    "df.columns = df.columns.str.strip()\n",
    "df.rename(columns=lambda x: x.strip())\n",
    "\n",
    "df[\"domain\"] = df[\"email\"].apply(lambda x: x.split('@')[1])\n",
    "df[\"domain\"].value_counts()\n",
    "\n",
    "# more verbose\n",
    "#extract_domain = lambda x: x.split('@')[1]\n",
    "#df[\"domain\"] = df[\"email\"].apply(extract_domain)\n"
   ]
  },
  {
   "cell_type": "code",
   "execution_count": 67,
   "metadata": {
    "collapsed": false
   },
   "outputs": [],
   "source": [
    "import pandas as pd\n",
    "import numpy as np\n",
    "df = pd.read_csv('faculty.csv')\n",
    "df.columns = df.columns.str.strip()\n",
    "df.rename(columns=lambda x: x.strip())\n",
    "df[\"domain\"] = df[\"email\"].apply(lambda x: x.split('@')[1])\n",
    "df[\"domain\"].value_counts()\n",
    "\n",
    "df['email'].to_csv('faculty_email.csv', index=False, encoding='utf-8')"
   ]
  },
  {
   "cell_type": "code",
   "execution_count": 73,
   "metadata": {
    "collapsed": false,
    "scrolled": true
   },
   "outputs": [
    {
     "data": {
      "text/plain": [
       "{'A. Russell Localio': [' JD MA MPH MS PhD',\n",
       "  'Associate Professor of Biostatistics',\n",
       "  'rlocalio@upenn.edu'],\n",
       " 'Alisa Jane Stephens': [' Ph.D.',\n",
       "  'Assistant Professor of Biostatistics',\n",
       "  'alisaste@mail.med.upenn.edu'],\n",
       " 'Andrea Beth Troxel': [' ScD',\n",
       "  'Professor of Biostatistics',\n",
       "  'atroxel@mail.med.upenn.edu'],\n",
       " 'Benjamin C. French': [' PhD',\n",
       "  'Associate Professor of Biostatistics',\n",
       "  'bcfrench@mail.med.upenn.edu'],\n",
       " 'Dawei Xie': [' PhD',\n",
       "  'Assistant Professor of Biostatistics',\n",
       "  'dxie@upenn.edu'],\n",
       " 'Haochang Shou': [' Ph.D.',\n",
       "  'Assistant Professor of Biostatistics',\n",
       "  'hshou@mail.med.upenn.edu'],\n",
       " 'Hongzhe Li': [' Ph.D', 'Professor of Biostatistics', 'hongzhe@upenn.edu'],\n",
       " 'J. Richard Landis': [' B.S.Ed. M.S. Ph.D.',\n",
       "  'Professor of Biostatistics',\n",
       "  'jrlandis@mail.med.upenn.edu'],\n",
       " 'Jason A. Roy': [' Ph.D.',\n",
       "  'Associate Professor of Biostatistics',\n",
       "  'jaroy@mail.med.upenn.edu'],\n",
       " 'Jinbo Chen': [' Ph.D.',\n",
       "  'Associate Professor of Biostatistics',\n",
       "  'jinboche@upenn.edu'],\n",
       " 'Jonas H. Ellenberg': [' Ph.D.',\n",
       "  'Professor of Biostatistics',\n",
       "  'jellenbe@mail.med.upenn.edu'],\n",
       " 'Justine Shults': [' Ph.D.',\n",
       "  'Professor of Biostatistics',\n",
       "  'jshults@mail.med.upenn.edu'],\n",
       " 'Kathleen Joy Propert': [' Sc.D.',\n",
       "  'Professor of Biostatistics',\n",
       "  'propert@mail.med.upenn.edu'],\n",
       " 'Knashawn H. Morales': [' Sc.D.',\n",
       "  'Associate Professor of Biostatistics',\n",
       "  'knashawn@mail.med.upenn.edu'],\n",
       " 'Marshall M. Joffe': [' MD MPH Ph.D',\n",
       "  'Professor of Biostatistics',\n",
       "  'mjoffe@mail.med.upenn.edu'],\n",
       " 'Mary D. Sammel': [' Sc.D.',\n",
       "  'Professor of Biostatistics',\n",
       "  'msammel@cceb.med.upenn.edu'],\n",
       " 'Mary E. Putt': [' PhD ScD',\n",
       "  'Professor of Biostatistics',\n",
       "  'mputt@mail.med.upenn.edu'],\n",
       " 'Matthew W Bryan': [' PhD',\n",
       "  'Assistant Professor of Biostatistics',\n",
       "  'bryanma@upenn.edu'],\n",
       " 'Michelle Elana Ross': [' PhD',\n",
       "  'Assistant Professor is Biostatistics',\n",
       "  'michross@upenn.edu'],\n",
       " 'Mingyao Li': [' Ph.D.',\n",
       "  'Associate Professor of Biostatistics',\n",
       "  'mingyao@mail.med.upenn.edu'],\n",
       " 'Nandita Mitra': [' Ph.D.',\n",
       "  'Associate Professor of Biostatistics',\n",
       "  'nanditam@mail.med.upenn.edu'],\n",
       " 'Pamela Ann Shaw': [' PhD',\n",
       "  'Assistant Professor of Biostatistics',\n",
       "  'shawp@upenn.edu'],\n",
       " 'Phyllis A. Gimotty': [' Ph.D',\n",
       "  'Professor of Biostatistics',\n",
       "  'pgimotty@upenn.edu'],\n",
       " 'Rebecca A Hubbard': [' PhD',\n",
       "  'Associate Professor of Biostatistics',\n",
       "  'rhubb@mail.med.upenn.edu'],\n",
       " 'Rui Feng': [' Ph.D',\n",
       "  'Assistant Professor of Biostatistics',\n",
       "  'ruifeng@upenn.edu'],\n",
       " 'Rui Xiao': [' PhD',\n",
       "  'Assistant Professor of Biostatistics',\n",
       "  'rxiao@mail.med.upenn.edu'],\n",
       " 'Russell Takeshi Shinohara': ['0',\n",
       "  'Assistant Professor of Biostatistics',\n",
       "  'rshi@mail.med.upenn.edu'],\n",
       " 'Sarah Jane Ratcliffe': [' Ph.D.',\n",
       "  'Associate Professor of Biostatistics',\n",
       "  'sratclif@upenn.edu'],\n",
       " 'Scarlett L. Bellamy': [' Sc.D.',\n",
       "  'Associate Professor of Biostatistics',\n",
       "  'bellamys@mail.med.upenn.edu'],\n",
       " 'Sharon Xiangwen Xie': [' Ph.D.',\n",
       "  'Associate Professor of Biostatistics',\n",
       "  'sxie@mail.med.upenn.edu'],\n",
       " 'Susan S Ellenberg': [' Ph.D.',\n",
       "  'Professor of Biostatistics',\n",
       "  'sellenbe@upenn.edu'],\n",
       " 'Warren B. Bilker': ['Ph.D.',\n",
       "  'Professor of Biostatistics',\n",
       "  'warren@upenn.edu'],\n",
       " 'Wei (Peter) Yang': [' Ph.D.',\n",
       "  'Assistant Professor of Biostatistics',\n",
       "  'weiyang@mail.med.upenn.edu'],\n",
       " 'Wei-Ting Hwang': [' Ph.D.',\n",
       "  'Associate Professor of Biostatistics',\n",
       "  'whwang@mail.med.upenn.edu'],\n",
       " 'Wensheng Guo': [' Ph.D',\n",
       "  'Professor of Biostatistics',\n",
       "  'wguo@mail.med.upenn.edu'],\n",
       " 'Yenchih Hsu': [' Ph.D.',\n",
       "  'Assistant Professor of Biostatistics',\n",
       "  'hsu9@mail.med.upenn.edu'],\n",
       " 'Yimei Li': [' Ph.D.',\n",
       "  'Assistant Professor of Biostatistics',\n",
       "  'liy3@email.chop.edu']}"
      ]
     },
     "execution_count": 73,
     "metadata": {},
     "output_type": "execute_result"
    }
   ],
   "source": [
    "# Print the first 3 key and value pairs of the dictionary:\n",
    "# faculty_dict = { 'Ellenberg': [['Ph.D.', 'Professor', 'sellenbe@upenn.edu'], \n",
    "#                                ['Ph.D.', 'Professor', 'jellenbe@mail.med.upenn.edu']],\n",
    "#                   'Li': [['Ph.D.', 'Assistant Professor', 'liy3@email.chop.edu'], \n",
    "#                          ['Ph.D.', 'Associate Professor', 'mingyao@mail.med.upenn.edu'], \n",
    "#                          ['Ph.D.', 'Professor', 'hongzhe@upenn.edu']]\n",
    "#                }\n",
    "\n",
    "import pandas as pd\n",
    "import numpy as np\n",
    "df = pd.read_csv('faculty.csv')\n",
    "df.columns = df.columns.str.strip()\n",
    "df.rename(columns=lambda x: x.strip())\n",
    "df.set_index('name').T.to_dict('list')\n",
    "\n"
   ]
  },
  {
   "cell_type": "code",
   "execution_count": 82,
   "metadata": {
    "collapsed": false
   },
   "outputs": [
    {
     "name": "stdout",
     "output_type": "stream",
     "text": [
      "{('Warren', 'B.'): ['Ph.D.', 'Professor of Biostatistics', 'warren@upenn.edu'], ('Susan', 'S'): [' Ph.D.', 'Professor of Biostatistics', 'sellenbe@upenn.edu'], ('Rebecca', 'A'): [' PhD', 'Associate Professor of Biostatistics', 'rhubb@mail.med.upenn.edu'], ('Rui', 'Xiao'): [' PhD', 'Assistant Professor of Biostatistics', 'rxiao@mail.med.upenn.edu'], ('Phyllis', 'A.'): [' Ph.D', 'Professor of Biostatistics', 'pgimotty@upenn.edu'], ('Andrea', 'Beth'): [' ScD', 'Professor of Biostatistics', 'atroxel@mail.med.upenn.edu'], ('Haochang', 'Shou'): [' Ph.D.', 'Assistant Professor of Biostatistics', 'hshou@mail.med.upenn.edu'], ('Mary', 'E.'): [' PhD ScD', 'Professor of Biostatistics', 'mputt@mail.med.upenn.edu'], ('Jonas', 'H.'): [' Ph.D.', 'Professor of Biostatistics', 'jellenbe@mail.med.upenn.edu'], ('Benjamin', 'C.'): [' PhD', 'Associate Professor of Biostatistics', 'bcfrench@mail.med.upenn.edu'], ('Pamela', 'Ann'): [' PhD', 'Assistant Professor of Biostatistics', 'shawp@upenn.edu'], ('Hongzhe', 'Li'): [' Ph.D', 'Professor of Biostatistics', 'hongzhe@upenn.edu'], ('Rui', 'Feng'): [' Ph.D', 'Assistant Professor of Biostatistics', 'ruifeng@upenn.edu'], ('Sarah', 'Jane'): [' Ph.D.', 'Associate Professor of Biostatistics', 'sratclif@upenn.edu'], ('J.', 'Richard'): [' B.S.Ed. M.S. Ph.D.', 'Professor of Biostatistics', 'jrlandis@mail.med.upenn.edu'], ('Russell', 'Takeshi'): ['0', 'Assistant Professor of Biostatistics', 'rshi@mail.med.upenn.edu'], ('Justine', 'Shults'): [' Ph.D.', 'Professor of Biostatistics', 'jshults@mail.med.upenn.edu'], ('Sharon', 'Xiangwen'): [' Ph.D.', 'Associate Professor of Biostatistics', 'sxie@mail.med.upenn.edu'], ('Kathleen', 'Joy'): [' Sc.D.', 'Professor of Biostatistics', 'propert@mail.med.upenn.edu'], ('Scarlett', 'L.'): [' Sc.D.', 'Associate Professor of Biostatistics', 'bellamys@mail.med.upenn.edu'], ('Jinbo', 'Chen'): [' Ph.D.', 'Associate Professor of Biostatistics', 'jinboche@upenn.edu'], ('Yenchih', 'Hsu'): [' Ph.D.', 'Assistant Professor of Biostatistics', 'hsu9@mail.med.upenn.edu'], ('Dawei', 'Xie'): [' PhD', 'Assistant Professor of Biostatistics', 'dxie@upenn.edu'], ('Wei-Ting', 'Hwang'): [' Ph.D.', 'Associate Professor of Biostatistics', 'whwang@mail.med.upenn.edu'], ('Alisa', 'Jane'): [' Ph.D.', 'Assistant Professor of Biostatistics', 'alisaste@mail.med.upenn.edu'], ('Mingyao', 'Li'): [' Ph.D.', 'Associate Professor of Biostatistics', 'mingyao@mail.med.upenn.edu'], ('Nandita', 'Mitra'): [' Ph.D.', 'Associate Professor of Biostatistics', 'nanditam@mail.med.upenn.edu'], ('Matthew', 'W'): [' PhD', 'Assistant Professor of Biostatistics', 'bryanma@upenn.edu'], ('Wensheng', 'Guo'): [' Ph.D', 'Professor of Biostatistics', 'wguo@mail.med.upenn.edu'], ('A.', 'Russell'): [' JD MA MPH MS PhD', 'Associate Professor of Biostatistics', 'rlocalio@upenn.edu'], ('Wei', '(Peter)'): [' Ph.D.', 'Assistant Professor of Biostatistics', 'weiyang@mail.med.upenn.edu'], ('Mary', 'D.'): [' Sc.D.', 'Professor of Biostatistics', 'msammel@cceb.med.upenn.edu'], ('Marshall', 'M.'): [' MD MPH Ph.D', 'Professor of Biostatistics', 'mjoffe@mail.med.upenn.edu'], ('Jason', 'A.'): [' Ph.D.', 'Associate Professor of Biostatistics', 'jaroy@mail.med.upenn.edu'], ('Knashawn', 'H.'): [' Sc.D.', 'Associate Professor of Biostatistics', 'knashawn@mail.med.upenn.edu'], ('Yimei', 'Li'): [' Ph.D.', 'Assistant Professor of Biostatistics', 'liy3@email.chop.edu'], ('Michelle', 'Elana'): [' PhD', 'Assistant Professor is Biostatistics', 'michross@upenn.edu']}\n"
     ]
    }
   ],
   "source": [
    "import pandas as pd\n",
    "import numpy as np\n",
    "df = pd.read_csv('faculty.csv')\n",
    "df.columns = df.columns.str.strip()\n",
    "df.rename(columns=lambda x: x.strip())\n",
    "df[\"fn\"], df[\"ln\"] = zip(*df[\"name\"].str.split().tolist())\n",
    "del df[\"name\"]\n",
    "df = df[['fn', 'ln', 'degree', 'title', 'email']]\n",
    "\n",
    "dict = df.set_index(['fn','ln']).T.to_dict('list')\n",
    "print(dict)\n",
    "\n",
    "\n",
    "\n",
    "\n",
    "\n",
    "\n",
    "\n"
   ]
  },
  {
   "cell_type": "code",
   "execution_count": 83,
   "metadata": {
    "collapsed": false
   },
   "outputs": [
    {
     "name": "stdout",
     "output_type": "stream",
     "text": [
      "{('Li', 'Yimei'): [' Ph.D.', 'Assistant Professor of Biostatistics', 'liy3@email.chop.edu'], ('A.', 'Jason'): [' Ph.D.', 'Associate Professor of Biostatistics', 'jaroy@mail.med.upenn.edu'], ('Elana', 'Michelle'): [' PhD', 'Assistant Professor is Biostatistics', 'michross@upenn.edu'], ('Shou', 'Haochang'): [' Ph.D.', 'Assistant Professor of Biostatistics', 'hshou@mail.med.upenn.edu'], ('Russell', 'A.'): [' JD MA MPH MS PhD', 'Associate Professor of Biostatistics', 'rlocalio@upenn.edu'], ('H.', 'Jonas'): [' Ph.D.', 'Professor of Biostatistics', 'jellenbe@mail.med.upenn.edu'], ('Mitra', 'Nandita'): [' Ph.D.', 'Associate Professor of Biostatistics', 'nanditam@mail.med.upenn.edu'], ('A.', 'Phyllis'): [' Ph.D', 'Professor of Biostatistics', 'pgimotty@upenn.edu'], ('Hwang', 'Wei-Ting'): [' Ph.D.', 'Associate Professor of Biostatistics', 'whwang@mail.med.upenn.edu'], ('Joy', 'Kathleen'): [' Sc.D.', 'Professor of Biostatistics', 'propert@mail.med.upenn.edu'], ('Richard', 'J.'): [' B.S.Ed. M.S. Ph.D.', 'Professor of Biostatistics', 'jrlandis@mail.med.upenn.edu'], ('C.', 'Benjamin'): [' PhD', 'Associate Professor of Biostatistics', 'bcfrench@mail.med.upenn.edu'], ('Jane', 'Sarah'): [' Ph.D.', 'Associate Professor of Biostatistics', 'sratclif@upenn.edu'], ('A', 'Rebecca'): [' PhD', 'Associate Professor of Biostatistics', 'rhubb@mail.med.upenn.edu'], ('E.', 'Mary'): [' PhD ScD', 'Professor of Biostatistics', 'mputt@mail.med.upenn.edu'], ('Chen', 'Jinbo'): [' Ph.D.', 'Associate Professor of Biostatistics', 'jinboche@upenn.edu'], ('M.', 'Marshall'): [' MD MPH Ph.D', 'Professor of Biostatistics', 'mjoffe@mail.med.upenn.edu'], ('Xiangwen', 'Sharon'): [' Ph.D.', 'Associate Professor of Biostatistics', 'sxie@mail.med.upenn.edu'], ('S', 'Susan'): [' Ph.D.', 'Professor of Biostatistics', 'sellenbe@upenn.edu'], ('Li', 'Mingyao'): [' Ph.D.', 'Associate Professor of Biostatistics', 'mingyao@mail.med.upenn.edu'], ('Feng', 'Rui'): [' Ph.D', 'Assistant Professor of Biostatistics', 'ruifeng@upenn.edu'], ('H.', 'Knashawn'): [' Sc.D.', 'Associate Professor of Biostatistics', 'knashawn@mail.med.upenn.edu'], ('Hsu', 'Yenchih'): [' Ph.D.', 'Assistant Professor of Biostatistics', 'hsu9@mail.med.upenn.edu'], ('Shults', 'Justine'): [' Ph.D.', 'Professor of Biostatistics', 'jshults@mail.med.upenn.edu'], ('Beth', 'Andrea'): [' ScD', 'Professor of Biostatistics', 'atroxel@mail.med.upenn.edu'], ('B.', 'Warren'): ['Ph.D.', 'Professor of Biostatistics', 'warren@upenn.edu'], ('Jane', 'Alisa'): [' Ph.D.', 'Assistant Professor of Biostatistics', 'alisaste@mail.med.upenn.edu'], ('W', 'Matthew'): [' PhD', 'Assistant Professor of Biostatistics', 'bryanma@upenn.edu'], ('Xie', 'Dawei'): [' PhD', 'Assistant Professor of Biostatistics', 'dxie@upenn.edu'], ('D.', 'Mary'): [' Sc.D.', 'Professor of Biostatistics', 'msammel@cceb.med.upenn.edu'], ('Guo', 'Wensheng'): [' Ph.D', 'Professor of Biostatistics', 'wguo@mail.med.upenn.edu'], ('(Peter)', 'Wei'): [' Ph.D.', 'Assistant Professor of Biostatistics', 'weiyang@mail.med.upenn.edu'], ('Takeshi', 'Russell'): ['0', 'Assistant Professor of Biostatistics', 'rshi@mail.med.upenn.edu'], ('Ann', 'Pamela'): [' PhD', 'Assistant Professor of Biostatistics', 'shawp@upenn.edu'], ('L.', 'Scarlett'): [' Sc.D.', 'Associate Professor of Biostatistics', 'bellamys@mail.med.upenn.edu'], ('Xiao', 'Rui'): [' PhD', 'Assistant Professor of Biostatistics', 'rxiao@mail.med.upenn.edu'], ('Li', 'Hongzhe'): [' Ph.D', 'Professor of Biostatistics', 'hongzhe@upenn.edu']}\n"
     ]
    }
   ],
   "source": [
    "import pandas as pd\n",
    "import numpy as np\n",
    "df = pd.read_csv('faculty.csv')\n",
    "df.columns = df.columns.str.strip()\n",
    "df.rename(columns=lambda x: x.strip())\n",
    "df[\"fn\"], df[\"ln\"] = zip(*df[\"name\"].str.split().tolist())\n",
    "del df[\"name\"]\n",
    "df = df[['fn', 'ln', 'degree', 'title', 'email']]\n",
    "\n",
    "dict = df.set_index(['ln','fn']).T.to_dict('list')\n",
    "print(dict)"
   ]
  }
 ],
 "metadata": {
  "_draft": {
   "nbviewer_url": "https://gist.github.com/a6944bf506d7be814ea1191ee33da755"
  },
  "gist": {
   "data": {
    "description": "Metis-Prework-05b.ipynb",
    "public": true
   },
   "id": "a6944bf506d7be814ea1191ee33da755"
  },
  "kernelspec": {
   "display_name": "Python 3",
   "language": "python",
   "name": "python3"
  },
  "language_info": {
   "codemirror_mode": {
    "name": "ipython",
    "version": 3
   },
   "file_extension": ".py",
   "mimetype": "text/x-python",
   "name": "python",
   "nbconvert_exporter": "python",
   "pygments_lexer": "ipython3",
   "version": "3.5.1"
  }
 },
 "nbformat": 4,
 "nbformat_minor": 0
}
