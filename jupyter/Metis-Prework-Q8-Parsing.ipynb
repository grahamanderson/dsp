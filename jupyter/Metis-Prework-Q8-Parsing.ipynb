{
 "cells": [
  {
   "cell_type": "code",
   "execution_count": 20,
   "metadata": {
    "collapsed": false
   },
   "outputs": [
    {
     "name": "stdout",
     "output_type": "stream",
     "text": [
      "Aston_Villa\n"
     ]
    }
   ],
   "source": [
    "# Write a program to read the file, \n",
    "# then print the name of the team with the smallest difference in ‘for’ and ‘against’ goals.\n",
    "# The columns labeled ‘Goals’ and ‘Goals Allowed’ contain the total number of \n",
    "# goals scored for and against each team in that season (so Arsenal scored 79 goals \n",
    "# against opponents, and had 36 goals scored against them).\n",
    "\n",
    "%matplotlib inline\n",
    "import matplotlib.pyplot as plt\n",
    "import pandas as pd\n",
    "import numpy as np\n",
    "\n",
    "df = pd.read_csv('football.csv')\n",
    "df = df.set_index(['Team'])\n",
    "df[\"Goal Diff\"] = abs(df[\"Goals\"]-df[\"Goals Allowed\"])\n",
    "\n",
    "# List\n",
    "#goal_diffs = df[\"Goal Diff\"].value_counts\n",
    "\n",
    "# Bar Chart\n",
    "#df['Goal Diff'].plot(kind='bar', title =\"For and Against\",figsize=(15,10),legend=True, fontsize=12)\n",
    "\n",
    "# Smallest Difference is the Aston_Villa Team\n",
    "print( df[\"Goal Diff\"].idxmin() )\n",
    "\n",
    "\n",
    "\n"
   ]
  }
 ],
 "metadata": {
  "kernelspec": {
   "display_name": "Python 3",
   "language": "python",
   "name": "python3"
  },
  "language_info": {
   "codemirror_mode": {
    "name": "ipython",
    "version": 3
   },
   "file_extension": ".py",
   "mimetype": "text/x-python",
   "name": "python",
   "nbconvert_exporter": "python",
   "pygments_lexer": "ipython3",
   "version": "3.5.1"
  }
 },
 "nbformat": 4,
 "nbformat_minor": 0
}
