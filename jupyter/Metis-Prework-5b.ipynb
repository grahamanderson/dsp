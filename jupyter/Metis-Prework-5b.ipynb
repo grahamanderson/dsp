{
 "cells": [
  {
   "cell_type": "code",
   "execution_count": 6,
   "metadata": {
    "collapsed": false
   },
   "outputs": [
    {
     "data": {
      "text/plain": [
       "2"
      ]
     },
     "execution_count": 6,
     "metadata": {},
     "output_type": "execute_result"
    }
   ],
   "source": [
    "\"\"\" MATCH_ENDS\n",
    "    Given a list of strings, return the count of the number of strings\n",
    "    where the string length is 2 or more and the first and last chars\n",
    "    of the string are the same.\n",
    "\n",
    "    >>> match_ends(['aba', 'xyz', 'aa', 'x', 'bbb'])\n",
    "    3\n",
    "    >>> match_ends(['', 'x', 'xy', 'xyx', 'xx'])\n",
    "    2\n",
    "    >>> match_ends(['aaa', 'be', 'abc', 'hello'])\n",
    "    1\n",
    "\"\"\"\n",
    "\n",
    "import numpy as np\n",
    "\n",
    "def match_ends(list):\n",
    "    count = 0\n",
    "    for word in list:\n",
    "        if len(word) >= 2 and word[0] == word[-1]:\n",
    "            count+=1\n",
    "    return count\n",
    "\n",
    "match_ends(['aba', 'xyz', 'aa', 'x', 'bbb'])\n",
    "\n",
    "\n"
   ]
  },
  {
   "cell_type": "code",
   "execution_count": 11,
   "metadata": {
    "collapsed": false
   },
   "outputs": [
    {
     "data": {
      "text/plain": [
       "['xzz', 'xaa', 'bbb', 'ccc', 'axx']"
      ]
     },
     "execution_count": 11,
     "metadata": {},
     "output_type": "execute_result"
    }
   ],
   "source": [
    "\"\"\" FRONT_X\n",
    "    Given a list of strings, return a list with the strings in sorted\n",
    "    order, except group all the strings that begin with 'x' first.\n",
    "    e.g. ['mix', 'xyz', 'apple', 'xanadu', 'aardvark'] yields\n",
    "         ['xanadu', 'xyz', 'aardvark', 'apple', 'mix'].\n",
    "\n",
    "    >>> front_x(['bbb', 'ccc', 'axx', 'xzz', 'xaa'])\n",
    "    ['xaa', 'xzz', 'axx', 'bbb', 'ccc']\n",
    "    >>> front_x(['ccc', 'bbb', 'aaa', 'xcc', 'xaa'])\n",
    "    ['xaa', 'xcc', 'aaa', 'bbb', 'ccc']\n",
    "    >>> front_x(['mix', 'xyz', 'apple', 'xanadu', 'aardvark'])\n",
    "    ['xanadu', 'xyz', 'aardvark', 'apple', 'mix']\n",
    "    \"\"\"\n",
    "\n",
    "import numpy as np\n",
    "\n",
    "def front_x(list):\n",
    "    # This is an extremely hacky solution––Embarassing?!\n",
    "    x_array = [item for item in list if str.lower(item[0])== \"x\"]\n",
    "    non_x_array = [item for item in list if str.lower(item[0])!= \"x\"]\n",
    "    \n",
    "    return  x_array + non_x_array\n",
    "\n",
    "    \n",
    "  \n",
    "front_x(['bbb', 'ccc', 'axx', 'xzz', 'xaa'])\n",
    "    "
   ]
  },
  {
   "cell_type": "code",
   "execution_count": 16,
   "metadata": {
    "collapsed": false
   },
   "outputs": [
    {
     "name": "stdout",
     "output_type": "stream",
     "text": [
      "[(3, 1), (1, 2), (2, 3)]\n"
     ]
    }
   ],
   "source": [
    "\"\"\" SORT_LAST\n",
    "    Given a list of non-empty tuples, return a list sorted in\n",
    "    increasing order by the last element in each tuple.\n",
    "    e.g. [(1, 7), (1, 3), (3, 4, 5), (2, 2)] yields\n",
    "         [(2, 2), (1, 3), (3, 4, 5), (1, 7)].\n",
    "\n",
    "    >>> sort_last([(1, 3), (3, 2), (2, 1)])\n",
    "                [(2, 1), (3, 2), (1, 3)]\n",
    "    >>> sort_last([(2, 3), (1, 2), (3, 1)])\n",
    "                [(3, 1), (1, 2), (2, 3)]\n",
    "    >>> sort_last([(1, 7), (1, 3), (3, 4, 5), (2, 2)])\n",
    "    [(2, 2), (1, 3), (3, 4, 5), (1, 7)]\n",
    "    \"\"\"\n",
    "\n",
    "def sort_last(tuples):\n",
    "    return sorted(tuples,key=lambda x: x[1])\n",
    "\n",
    "print(sort_last([(2, 3), (1, 2), (3, 1)]))\n"
   ]
  },
  {
   "cell_type": "code",
   "execution_count": 19,
   "metadata": {
    "collapsed": false
   },
   "outputs": [
    {
     "name": "stdout",
     "output_type": "stream",
     "text": [
      "{2, 3}\n"
     ]
    }
   ],
   "source": [
    "\"\"\" REMOVE_ADJACENT\n",
    "    Given a list of numbers, return a list where all adjacent equal\n",
    "    elements have been reduced to a single element, so [1, 2, 2, 3]\n",
    "    returns [1, 2, 3]. You may create a new list or modify the passed\n",
    "    in list.\n",
    "\n",
    "    >>> remove_adjacent([1, 2, 2, 3])\n",
    "    [1, 2, 3]\n",
    "    >>> remove_adjacent([2, 2, 3, 3, 3])\n",
    "    [2, 3]\n",
    "    >>> remove_adjacent([3, 2, 3, 3, 3])\n",
    "    [3, 2, 3]\n",
    "    >>> remove_adjacent([])\n",
    "    []\n",
    "    \"\"\"\n",
    "\n",
    "def remove_adjacent(nums):\n",
    "    return set(nums)\n",
    "\n",
    "print(remove_adjacent([3, 2, 3, 3, 3]))"
   ]
  },
  {
   "cell_type": "code",
   "execution_count": 25,
   "metadata": {
    "collapsed": false
   },
   "outputs": [
    {
     "name": "stdout",
     "output_type": "stream",
     "text": [
      "['aa', 'bb', 'cc', 'xx', 'zz']\n"
     ]
    }
   ],
   "source": [
    "\"\"\" LINEAR_MERGE\n",
    "    Given two lists sorted in increasing order, create and return a\n",
    "    merged list of all the elements in sorted order. You may modify\n",
    "    the passed in lists. Ideally, the solution should work in \"linear\"\n",
    "    time, making a single pass of both lists.\n",
    "\n",
    "    >>> linear_merge(['aa', 'xx', 'zz'], ['bb', 'cc'])\n",
    "    ['aa', 'bb', 'cc', 'xx', 'zz']\n",
    "    >>> linear_merge(['aa', 'xx'], ['bb', 'cc', 'zz'])\n",
    "    ['aa', 'bb', 'cc', 'xx', 'zz']\n",
    "    >>> linear_merge(['aa', 'aa'], ['aa', 'bb', 'bb'])\n",
    "    ['aa', 'aa', 'aa', 'bb', 'bb']\n",
    "    \"\"\"\n",
    "\n",
    "def linear_merge(list1, list2):\n",
    "    return sorted(list1 + list2) \n",
    "\n",
    "print(linear_merge(['aa', 'xx', 'zz'], ['bb', 'cc']))"
   ]
  }
 ],
 "metadata": {
  "_draft": {
   "nbviewer_url": "https://gist.github.com/492e0fe104227307989c9795e82b023f"
  },
  "gist": {
   "data": {
    "description": "Metis-Prework-5b.ipynb",
    "public": true
   },
   "id": "492e0fe104227307989c9795e82b023f"
  },
  "kernelspec": {
   "display_name": "Python 3",
   "language": "python",
   "name": "python3"
  },
  "language_info": {
   "codemirror_mode": {
    "name": "ipython",
    "version": 3
   },
   "file_extension": ".py",
   "mimetype": "text/x-python",
   "name": "python",
   "nbconvert_exporter": "python",
   "pygments_lexer": "ipython3",
   "version": "3.5.1"
  }
 },
 "nbformat": 4,
 "nbformat_minor": 0
}
