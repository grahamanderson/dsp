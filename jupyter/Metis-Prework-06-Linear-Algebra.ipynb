{
 "cells": [
  {
   "cell_type": "markdown",
   "metadata": {},
   "source": [
    "### Matrix Math Notes \n",
    "+ The first matrix needs the same number of columns as the second matrix has rows.\n",
    "+ 2x2 matrix (A) by 2x1 matrix (B) (The tw0 inner rows have to match)\n",
    "+ The final matrix will have as many rows as the first matrix, and as many columns as the second matrix. \n",
    "+ The result matrix will always have the same number of rows as the first matrix being multiplied has columns, and the same number of columns as the second matrix being multiplied has rows.\n",
    "+ If this dish is a schnitzel then it contains pork is––always true.\n",
    "If this dish contains pork then it is a schnitzel––not always\n",
    "+ matrix multiplication: result is **inside** values: 3x2 * 2x3 = 2x2\n",
    "    + 3x2 * 2x4 = 2x2\n",
    "    + 1x2 * 2x4 = 2x2\n",
    "    + 4x4 * 4x2 = 4x4\n",
    "\n",
    "+ Note: That 4 Page Linear Algebra doc was _written by a bot and/or masochist_\n",
    "\n",
    "### Reading Vectors\n",
    "\n",
    "+ first vector starts at 0,0 goes over 2 and up 0\n",
    "+ second vector starts at 2,0 goes over 0 and up 3\n",
    "+ third vector starts at 0,0 goes over 2 and up 3\n",
    "```\n",
    "X = [0,2,0] \n",
    "Y = [0,0,0]\n",
    "U = [2,0,2] \n",
    "V = [0,3,3]\n",
    "```\n",
    "\n",
    "### Simple Vector\n",
    "vectors are magnitudes--no coordinates\n",
    "The below is goes 1 over in the X direction and 2 Up in the Y direction. The origin point could be anywhere\n",
    "$$\n",
    "\\begin{bmatrix}\n",
    "1 \\\\ 2\n",
    "\\end{bmatrix}\n",
    "$$\n"
   ]
  },
  {
   "cell_type": "markdown",
   "metadata": {},
   "source": [
    "---"
   ]
  },
  {
   "cell_type": "markdown",
   "metadata": {},
   "source": [
    "## 1. Matrix Dimensions\n",
    "Write the dimensions of each matrix."
   ]
  },
  {
   "cell_type": "markdown",
   "metadata": {},
   "source": [
    "### Matrix Dimension A\n",
    "dimension: 2x3\n",
    "\n",
    "$$\n",
    "\\begin{bmatrix} \n",
    "1&2&3 \\\\ 2&4&7\n",
    "\\end{bmatrix}\n",
    "$$\n"
   ]
  },
  {
   "cell_type": "markdown",
   "metadata": {},
   "source": [
    "### Matrix Dimension B\n",
    "dimension: 2x2\n",
    "\n",
    "$$\n",
    "\\begin{bmatrix} \n",
    "1 & -1 \\\\ 0 & 1\n",
    "\\end{bmatrix}\n",
    "$$\n"
   ]
  },
  {
   "cell_type": "markdown",
   "metadata": {},
   "source": [
    "### Matrix Dimension C\n",
    "dimension: 3x2\n",
    "$$\n",
    "\\begin{bmatrix} \n",
    "5 & -1 \\\\ \n",
    "9 & 1  \\\\ \n",
    "6 & 0\n",
    "\\end{bmatrix}\n",
    "$$\n"
   ]
  },
  {
   "cell_type": "markdown",
   "metadata": {},
   "source": [
    "### Matrix Dimension D\n",
    "dimension: 2x3\n",
    "$$\n",
    "\\begin{bmatrix} \n",
    "3 & -2 & -1 \\\\\n",
    "1 & 2 & 3   \\\\\n",
    "\\end{bmatrix}\n",
    "$$"
   ]
  },
  {
   "cell_type": "markdown",
   "metadata": {},
   "source": [
    "### Matrix Dimension u\n",
    "dimension: 1x4\n",
    "$$\n",
    "\\begin{bmatrix} \n",
    "6 & 2 & -3 & 5 \n",
    "\\end{bmatrix}\n",
    "$$"
   ]
  },
  {
   "cell_type": "markdown",
   "metadata": {},
   "source": [
    "### Matrix Dimension w\n",
    "dimension: 4x1\n",
    "$$\n",
    "\\begin{bmatrix} \n",
    "1 \\\\\n",
    "8 \\\\\n",
    "0 \\\\\n",
    "5 \n",
    "\\end{bmatrix}\n",
    "$$"
   ]
  },
  {
   "cell_type": "markdown",
   "metadata": {},
   "source": [
    "* * *\n",
    "\n"
   ]
  },
  {
   "cell_type": "markdown",
   "metadata": {},
   "source": [
    "# 2. Vector Operations\n",
    "Perform the following operations. Assume α = 6."
   ]
  },
  {
   "cell_type": "markdown",
   "metadata": {},
   "source": [
    "### 2.1) &nbsp;&nbsp; $\\vec{u} + \\vec{v} =$  \n"
   ]
  },
  {
   "cell_type": "code",
   "execution_count": 49,
   "metadata": {
    "collapsed": false
   },
   "outputs": [
    {
     "name": "stdout",
     "output_type": "stream",
     "text": [
      "calculated: [ 9  7 -4  9] by_hand: [9, 7, -4, 9]\n"
     ]
    }
   ],
   "source": [
    "import numpy as np\n",
    "u = np.asarray([6,2,-3,5])\n",
    "v = np.asarray([3,5,-1,4])\n",
    "\n",
    "calc = u + v\n",
    "by_hand =  [(6+3),(2+5), (-3+-1), (5+4)]\n",
    "\n",
    "print(\"calculated: {0} by_hand: {1}\".format(calc,by_hand))"
   ]
  },
  {
   "cell_type": "markdown",
   "metadata": {},
   "source": [
    "### 2.2) &nbsp;&nbsp; $\\vec{u} - \\vec{v} = $  "
   ]
  },
  {
   "cell_type": "code",
   "execution_count": 53,
   "metadata": {
    "collapsed": false
   },
   "outputs": [
    {
     "name": "stdout",
     "output_type": "stream",
     "text": [
      "calculated: [ 3 -3 -2  1] by_hand: [3, -3, -2, 1]\n"
     ]
    }
   ],
   "source": [
    "import numpy as np\n",
    "u = np.asarray([6,2,-3,5])\n",
    "v = np.asarray([3,5,-1,4])\n",
    "\n",
    "calc = np.subtract(u,v) \n",
    "by_hand = [(6-3), (2-5), (-3--1), (5-4)]\n",
    "\n",
    "print(\"calculated: {0} by_hand: {1}\".format(calc,by_hand))"
   ]
  },
  {
   "cell_type": "markdown",
   "metadata": {},
   "source": [
    "### 2.3) &nbsp;&nbsp;  $a\\vec{u}=$"
   ]
  },
  {
   "cell_type": "code",
   "execution_count": 55,
   "metadata": {
    "collapsed": false
   },
   "outputs": [
    {
     "name": "stdout",
     "output_type": "stream",
     "text": [
      "calculated: [ 36  12 -18  30] by_hand: [36, 12, -18, 30]\n"
     ]
    }
   ],
   "source": [
    "import numpy as np\n",
    "a = 6\n",
    "u = np.asarray([6,2,-3,5])\n",
    "\n",
    "calc = np.multiply(a,u) \n",
    "by_hand = [(6*6), (6*2), (6*-3), (6*5)]\n",
    "\n",
    "print(\"calculated: {0} by_hand: {1}\".format(calc,by_hand))"
   ]
  },
  {
   "cell_type": "markdown",
   "metadata": {},
   "source": [
    "### 2.4) &nbsp;&nbsp; $\\vec{u}\\cdotp\\vec{v} =$  \n"
   ]
  },
  {
   "cell_type": "code",
   "execution_count": 56,
   "metadata": {
    "collapsed": false
   },
   "outputs": [
    {
     "name": "stdout",
     "output_type": "stream",
     "text": [
      "calculated: 51 by_hand: 51\n"
     ]
    }
   ],
   "source": [
    "import numpy as np\n",
    "u = np.asarray([6,2,-3,5])\n",
    "v = np.asarray([3,5,-1,4])\n",
    "\n",
    "calc = np.dot(u,v) \n",
    "by_hand = (6*3) + (2*5) + (-3*-1) + (5*4)\n",
    "\n",
    "print(\"calculated: {0} by_hand: {1}\".format(calc,by_hand))"
   ]
  },
  {
   "cell_type": "markdown",
   "metadata": {},
   "source": [
    "### 2.5) &nbsp;&nbsp;  $\\|\\vec{u}\\| = $"
   ]
  },
  {
   "cell_type": "code",
   "execution_count": 36,
   "metadata": {
    "collapsed": false
   },
   "outputs": [
    {
     "name": "stdout",
     "output_type": "stream",
     "text": [
      "calculated: 8.602325267042627 by_hand: 8.602325267042627\n"
     ]
    }
   ],
   "source": [
    "import math\n",
    "from numpy import linalg as LA\n",
    "u = np.asarray([6,2,-3,5])\n",
    "\n",
    "calc = LA.norm(u)\n",
    "\n",
    "mag = lambda x : math.sqrt(sum(i**2 for i in x))\n",
    "by_hand= mag(u)\n",
    "\n",
    "print(\"calculated: {0} by_hand: {1}\".format(calc,by_hand)) "
   ]
  },
  {
   "cell_type": "markdown",
   "metadata": {},
   "source": [
    "***"
   ]
  },
  {
   "cell_type": "markdown",
   "metadata": {},
   "source": [
    "# 3. Matrix Operations\n",
    "Evaluate each of the following expressions, if it is defined; else fill in with ”not defined.” Do your work by hand on scratch paper.\n"
   ]
  },
  {
   "cell_type": "markdown",
   "metadata": {},
   "source": [
    "### 3.1) A + C"
   ]
  },
  {
   "cell_type": "code",
   "execution_count": 61,
   "metadata": {
    "collapsed": false
   },
   "outputs": [],
   "source": [
    "import numpy as np\n",
    "A = np.asarray([[1,2,3],[2,7,4]])     # 2x3\n",
    "C = np.asarray([[5,-1],[9,1],[6,0]])  # 3x2\n",
    "\n",
    "# Not going to work as  addition/subtraction require matrices of the same dimensions\n",
    "\n"
   ]
  },
  {
   "cell_type": "markdown",
   "metadata": {},
   "source": [
    "### 3.2) A - C$^T$"
   ]
  },
  {
   "cell_type": "code",
   "execution_count": 14,
   "metadata": {
    "collapsed": false
   },
   "outputs": [
    {
     "name": "stdout",
     "output_type": "stream",
     "text": [
      "calc: [[-4 -7 -3]\n",
      " [ 3  6  4]] \n",
      " by_hand: [[-4, -7, -3], [3, 6, 4]]\n"
     ]
    }
   ],
   "source": [
    "import numpy as np\n",
    "A = np.asarray([[1,2,3],[2,7,4]])\n",
    "C = np.asarray([[5,-1],[9,1],[6,0]])\n",
    "\n",
    "calc = A-C.transpose() \n",
    "by_hand = [ [(1-5), (2-9), (3-6)], [(2--1), (7-1), (4-0)]]\n",
    "\n",
    "\n",
    "print(\"calc: {0} \\n by_hand: {1}\".format(calc,by_hand)) \n",
    "\n",
    "\n"
   ]
  },
  {
   "cell_type": "markdown",
   "metadata": {},
   "source": [
    "### 3.3) C$^T$ + 3D"
   ]
  },
  {
   "cell_type": "code",
   "execution_count": 16,
   "metadata": {
    "collapsed": false
   },
   "outputs": [
    {
     "name": "stdout",
     "output_type": "stream",
     "text": [
      "[[14  3  3]\n",
      " [ 2  7  9]]\n"
     ]
    }
   ],
   "source": [
    "import numpy as np\n",
    "C = np.asarray([[5,-1],[9,1],[6,0]])\n",
    "D = np.asarray([[3,-2,-1],[1,2,3]])\n",
    "\n",
    "calc = C.transpose() + 3*D\n",
    "# by hand done in in notebook: https://www.dropbox.com/s/p6qqifksa4zckcn/Metis-Linear-Algebra-3-3.jpg?dl=0\n",
    "\n",
    "print(calc)\n",
    "\n",
    "\n"
   ]
  },
  {
   "cell_type": "markdown",
   "metadata": {},
   "source": [
    "### 3.4) BA"
   ]
  },
  {
   "cell_type": "code",
   "execution_count": 37,
   "metadata": {
    "collapsed": false
   },
   "outputs": [
    {
     "ename": "ValueError",
     "evalue": "operands could not be broadcast together with shapes (2,2) (2,3) ",
     "output_type": "error",
     "traceback": [
      "\u001b[0;31m---------------------------------------------------------------------------\u001b[0m",
      "\u001b[0;31mValueError\u001b[0m                                Traceback (most recent call last)",
      "\u001b[0;32m<ipython-input-37-7f69042712d8>\u001b[0m in \u001b[0;36m<module>\u001b[0;34m()\u001b[0m\n\u001b[1;32m      2\u001b[0m \u001b[0mB\u001b[0m \u001b[0;34m=\u001b[0m \u001b[0mnp\u001b[0m\u001b[0;34m.\u001b[0m\u001b[0masarray\u001b[0m\u001b[0;34m(\u001b[0m\u001b[0;34m[\u001b[0m\u001b[0;34m[\u001b[0m\u001b[0;36m1\u001b[0m\u001b[0;34m,\u001b[0m\u001b[0;34m-\u001b[0m\u001b[0;36m1\u001b[0m\u001b[0;34m]\u001b[0m\u001b[0;34m,\u001b[0m\u001b[0;34m[\u001b[0m\u001b[0;36m0\u001b[0m\u001b[0;34m,\u001b[0m\u001b[0;36m1\u001b[0m\u001b[0;34m]\u001b[0m\u001b[0;34m]\u001b[0m\u001b[0;34m)\u001b[0m    \u001b[0;31m# 2x2\u001b[0m\u001b[0;34m\u001b[0m\u001b[0m\n\u001b[1;32m      3\u001b[0m \u001b[0mA\u001b[0m \u001b[0;34m=\u001b[0m \u001b[0mnp\u001b[0m\u001b[0;34m.\u001b[0m\u001b[0masarray\u001b[0m\u001b[0;34m(\u001b[0m\u001b[0;34m[\u001b[0m\u001b[0;34m[\u001b[0m\u001b[0;36m1\u001b[0m\u001b[0;34m,\u001b[0m\u001b[0;36m2\u001b[0m\u001b[0;34m,\u001b[0m\u001b[0;36m3\u001b[0m\u001b[0;34m]\u001b[0m\u001b[0;34m,\u001b[0m\u001b[0;34m[\u001b[0m\u001b[0;36m2\u001b[0m\u001b[0;34m,\u001b[0m\u001b[0;36m7\u001b[0m\u001b[0;34m,\u001b[0m\u001b[0;36m4\u001b[0m\u001b[0;34m]\u001b[0m\u001b[0;34m]\u001b[0m\u001b[0;34m)\u001b[0m \u001b[0;31m# 2x3\u001b[0m\u001b[0;34m\u001b[0m\u001b[0m\n\u001b[0;32m----> 4\u001b[0;31m \u001b[0mB\u001b[0m\u001b[0;34m*\u001b[0m\u001b[0mA\u001b[0m\u001b[0;34m\u001b[0m\u001b[0m\n\u001b[0m\u001b[1;32m      5\u001b[0m \u001b[0;31m# Shape will not work\u001b[0m\u001b[0;34m\u001b[0m\u001b[0;34m\u001b[0m\u001b[0m\n",
      "\u001b[0;31mValueError\u001b[0m: operands could not be broadcast together with shapes (2,2) (2,3) "
     ]
    }
   ],
   "source": [
    "import numpy as np\n",
    "B = np.asarray([[1,-1],[0,1]])    # 2x2\n",
    "A = np.asarray([[1,2,3],[2,7,4]]) # 2x3\n",
    "B*A\n",
    "# Shape will not work\n"
   ]
  },
  {
   "cell_type": "markdown",
   "metadata": {},
   "source": [
    "### 3.5) BA$^T$"
   ]
  },
  {
   "cell_type": "code",
   "execution_count": 43,
   "metadata": {
    "collapsed": false,
    "scrolled": false
   },
   "outputs": [
    {
     "ename": "ValueError",
     "evalue": "operands could not be broadcast together with shapes (2,2) (3,2) ",
     "output_type": "error",
     "traceback": [
      "\u001b[0;31m---------------------------------------------------------------------------\u001b[0m",
      "\u001b[0;31mValueError\u001b[0m                                Traceback (most recent call last)",
      "\u001b[0;32m<ipython-input-43-cfb33b6038e8>\u001b[0m in \u001b[0;36m<module>\u001b[0;34m()\u001b[0m\n\u001b[1;32m      2\u001b[0m \u001b[0mB\u001b[0m \u001b[0;34m=\u001b[0m \u001b[0mnp\u001b[0m\u001b[0;34m.\u001b[0m\u001b[0masarray\u001b[0m\u001b[0;34m(\u001b[0m\u001b[0;34m[\u001b[0m\u001b[0;34m[\u001b[0m\u001b[0;36m1\u001b[0m\u001b[0;34m,\u001b[0m\u001b[0;34m-\u001b[0m\u001b[0;36m1\u001b[0m\u001b[0;34m]\u001b[0m\u001b[0;34m,\u001b[0m\u001b[0;34m[\u001b[0m\u001b[0;36m0\u001b[0m\u001b[0;34m,\u001b[0m\u001b[0;36m1\u001b[0m\u001b[0;34m]\u001b[0m\u001b[0;34m]\u001b[0m\u001b[0;34m)\u001b[0m\u001b[0;34m\u001b[0m\u001b[0m\n\u001b[1;32m      3\u001b[0m \u001b[0mA\u001b[0m \u001b[0;34m=\u001b[0m \u001b[0mnp\u001b[0m\u001b[0;34m.\u001b[0m\u001b[0masarray\u001b[0m\u001b[0;34m(\u001b[0m\u001b[0;34m[\u001b[0m\u001b[0;34m[\u001b[0m\u001b[0;36m1\u001b[0m\u001b[0;34m,\u001b[0m\u001b[0;36m2\u001b[0m\u001b[0;34m,\u001b[0m\u001b[0;36m3\u001b[0m\u001b[0;34m]\u001b[0m\u001b[0;34m,\u001b[0m\u001b[0;34m[\u001b[0m\u001b[0;36m2\u001b[0m\u001b[0;34m,\u001b[0m\u001b[0;36m4\u001b[0m\u001b[0;34m,\u001b[0m\u001b[0;36m7\u001b[0m\u001b[0;34m]\u001b[0m\u001b[0;34m]\u001b[0m\u001b[0;34m)\u001b[0m\u001b[0;34m\u001b[0m\u001b[0m\n\u001b[0;32m----> 4\u001b[0;31m \u001b[0mcalc\u001b[0m \u001b[0;34m=\u001b[0m \u001b[0mB\u001b[0m \u001b[0;34m*\u001b[0m \u001b[0mA\u001b[0m\u001b[0;34m.\u001b[0m\u001b[0mtranspose\u001b[0m\u001b[0;34m(\u001b[0m\u001b[0;34m)\u001b[0m\u001b[0;34m\u001b[0m\u001b[0m\n\u001b[0m\u001b[1;32m      5\u001b[0m \u001b[0;34m\u001b[0m\u001b[0m\n",
      "\u001b[0;31mValueError\u001b[0m: operands could not be broadcast together with shapes (2,2) (3,2) "
     ]
    }
   ],
   "source": [
    "import numpy as np\n",
    "B = np.asarray([[1,-1],[0,1]])\n",
    "A = np.asarray([[1,2,3],[2,4,7]])\n",
    "calc = B * A.transpose()\n",
    "\n",
    "# Shapes are wrong. Won't work \n",
    "\n"
   ]
  },
  {
   "cell_type": "markdown",
   "metadata": {},
   "source": []
  }
 ],
 "metadata": {
  "kernelspec": {
   "display_name": "Python 3",
   "language": "python",
   "name": "python3"
  },
  "language_info": {
   "codemirror_mode": {
    "name": "ipython",
    "version": 3
   },
   "file_extension": ".py",
   "mimetype": "text/x-python",
   "name": "python",
   "nbconvert_exporter": "python",
   "pygments_lexer": "ipython3",
   "version": "3.5.1"
  }
 },
 "nbformat": 4,
 "nbformat_minor": 0
}
