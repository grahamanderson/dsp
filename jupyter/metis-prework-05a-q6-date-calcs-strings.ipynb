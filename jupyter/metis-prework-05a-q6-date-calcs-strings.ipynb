{
 "cells": [
  {
   "cell_type": "code",
   "execution_count": 19,
   "metadata": {
    "collapsed": false
   },
   "outputs": [
    {
     "name": "stdout",
     "output_type": "stream",
     "text": [
      "937 days have passed\n"
     ]
    }
   ],
   "source": [
    "# 05a––Question 5\n",
    "from datetime import datetime\n",
    "date_format = '%m-%d-%Y'\n",
    "date_start = '01-02-2013'    \n",
    "date_stop = '07-28-2015'\n",
    "\n",
    "def delta_calc(date_start, date_stop, date_format):\n",
    "    a = datetime.strptime(date_start, date_format)\n",
    "    b = datetime.strptime(date_stop, date_format) \n",
    "    delta = b-a \n",
    "    return delta\n",
    "\n",
    "\n",
    "# a = datetime.strptime(date_start, date_format)\n",
    "# b = datetime.strptime(date_stop, date_format)\n",
    "# delta = b - a\n",
    "# print(\"{0} days have passed\".format(delta.days))\n",
    "\n",
    "delta = delta_calc('01-02-2013','07-28-2015','%m-%d-%Y')\n",
    "print(\"{0} days have passed\".format(delta.days))\n",
    "\n",
    "\n",
    "\n"
   ]
  },
  {
   "cell_type": "code",
   "execution_count": 17,
   "metadata": {
    "collapsed": false
   },
   "outputs": [
    {
     "name": "stdout",
     "output_type": "stream",
     "text": [
      "513 days have passed\n"
     ]
    }
   ],
   "source": [
    "date_start = '12312013'  \n",
    "date_stop = '05282015'\n",
    "date_format = \"%m%d%Y\"\n",
    "delta = delta_calc(date_start, date_stop, date_format)\n",
    "\n",
    "# a = datetime.strptime(date_start, date_format)\n",
    "# b = datetime.strptime(date_stop, date_format)\n",
    "# delta = b - a\n",
    "print(\"{0} days have passed\".format(delta.days))\n"
   ]
  },
  {
   "cell_type": "code",
   "execution_count": 24,
   "metadata": {
    "collapsed": false
   },
   "outputs": [
    {
     "name": "stdout",
     "output_type": "stream",
     "text": [
      "7850 days have passed\n"
     ]
    }
   ],
   "source": [
    "date_start = '15-Jan-1994'      \n",
    "date_stop = '14-Jul-2015'\n",
    "date_format = '%d-%b-%Y' \n",
    "\n",
    "delta = datetime.strptime(date_stop, date_format) - datetime.strptime(date_start, date_format)\n",
    "print(\"{0} days have passed\".format(delta.days))\n",
    "\n"
   ]
  },
  {
   "cell_type": "code",
   "execution_count": 39,
   "metadata": {
    "collapsed": false
   },
   "outputs": [
    {
     "data": {
      "text/plain": [
       "'Ack, enter in an integer next time, ok?!'"
      ]
     },
     "execution_count": 39,
     "metadata": {},
     "output_type": "execute_result"
    }
   ],
   "source": [
    "# Q6: DONUTS \n",
    "def donuts(count):\n",
    "    try:\n",
    "        count = int(count)\n",
    "    except Exception:\n",
    "        return \"Ack, enter in an integer next time, ok?!\"\n",
    "    \n",
    "    if count <= 10:\n",
    "        return \"Number of donuts: {0}\".format(count)\n",
    "    elif count > 10:\n",
    "        return \"Number of donuts: many\"\n",
    "    \n",
    "donuts(\"uber\")\n",
    "        \n",
    "\n",
    "\n",
    "    \n",
    "    \n",
    "\n",
    "  \n",
    "\n"
   ]
  },
  {
   "cell_type": "code",
   "execution_count": 92,
   "metadata": {
    "collapsed": false
   },
   "outputs": [
    {
     "name": "stdout",
     "output_type": "stream",
     "text": [
      "None\n"
     ]
    }
   ],
   "source": [
    "\"\"\" Q6: BOTH ENDS    \n",
    "    Given a string s, return a string made of the first 2 and the last\n",
    "    2 chars of the original string, so 'spring' yields 'spng'.\n",
    "    However, if the string length is less than 2, return instead the\n",
    "    empty string.\n",
    "\"\"\"\n",
    "\n",
    "\n",
    "def both_ends(s):     \n",
    "    if len(s) >= 2:\n",
    "        return s[0:2]+ s[-2:]\n",
    "\n",
    "print(both_ends(\"spring\"))\n",
    "    \n",
    "    \n",
    "    \n",
    "    \n",
    "\n",
    "\n"
   ]
  },
  {
   "cell_type": "code",
   "execution_count": 119,
   "metadata": {
    "collapsed": false
   },
   "outputs": [
    {
     "name": "stdout",
     "output_type": "stream",
     "text": [
      "donut\n"
     ]
    }
   ],
   "source": [
    "\"\"\" Q6: FIX START  \n",
    "    Given a string s, return a string where all occurences of its\n",
    "    first char have been changed to '*', except do not change the\n",
    "    first char itself. e.g. 'babble' yields 'ba**le' Assume that the\n",
    "    string is length 1 or more.\n",
    "\"\"\"\n",
    "import re\n",
    "def fix_start(s):\n",
    "    return(s[0:1] + re.sub(s[0:1], '*', s[1:]))\n",
    "\n",
    "print(fix_start(\"donut\"))\n",
    "\n",
    "\n",
    "\n"
   ]
  },
  {
   "cell_type": "code",
   "execution_count": 123,
   "metadata": {
    "collapsed": false
   },
   "outputs": [
    {
     "data": {
      "text/plain": [
       "'dig donner'"
      ]
     },
     "execution_count": 123,
     "metadata": {},
     "output_type": "execute_result"
    }
   ],
   "source": [
    "\"\"\" Q6: MIX UP\n",
    "    Given strings a and b, return a single string with a and b\n",
    "    separated by a space '<a> <b>', except swap the first 2 chars of\n",
    "    each string. Assume a and b are length 2 or more.\n",
    "\n",
    "\"\"\"\n",
    "\n",
    "def mix_up(a, b):\n",
    "    return b[0:2]+ a[2:] + \" \" +  a[0:2]+ b[2:]\n",
    "    #return ''.join([ b[0:2],a[2:],' ', a[0:2]+ b[2:] ])\n",
    "\n",
    "mix_up(\"dog\", \"dinner\")\n",
    "\n",
    "\n",
    "\n"
   ]
  },
  {
   "cell_type": "code",
   "execution_count": 136,
   "metadata": {
    "collapsed": false
   },
   "outputs": [
    {
     "data": {
      "text/plain": [
       "'do'"
      ]
     },
     "execution_count": 136,
     "metadata": {},
     "output_type": "execute_result"
    }
   ],
   "source": [
    "\"\"\" Q6: VERBING\n",
    "    Given a string, if its length is at least 3, add 'ing' to its end.\n",
    "    Unless it already ends in 'ing', in which case add 'ly' instead.\n",
    "    If the string length is less than 3, leave it unchanged. Return\n",
    "    the resulting string.\n",
    "\n",
    "    >>> verbing('hail')\n",
    "    'hailing'\n",
    "    >>> verbing('swiming')\n",
    "    'swimingly'\n",
    "    >>> verbing('do')\n",
    "    'do'\n",
    "\"\"\"\n",
    "\n",
    "def verbing(s):\n",
    "    if len(s)>= 3:\n",
    "        if s[-3:]==\"ing\":\n",
    "            return s+ \"ly\"\n",
    "        elif s[-3] != \"ing\":\n",
    "            return s+ \"ing\"\n",
    "        else:\n",
    "            return s+\"ingly\"\n",
    "    else:\n",
    "        return s\n",
    "\n",
    "verbing('do')\n",
    "\n",
    "       "
   ]
  },
  {
   "cell_type": "code",
   "execution_count": 145,
   "metadata": {
    "collapsed": false
   },
   "outputs": [
    {
     "data": {
      "text/plain": [
       "'This tea is not hot'"
      ]
     },
     "execution_count": 145,
     "metadata": {},
     "output_type": "execute_result"
    }
   ],
   "source": [
    "\"\"\" Q6: NOT BAD\n",
    "    Given a string, find the first appearance of the substring 'not'\n",
    "    and 'bad'. If the 'bad' follows the 'not', replace the whole\n",
    "    'not'...'bad' substring with 'good'. Return the resulting string.\n",
    "    So 'This dinner is not that bad!' yields: 'This dinner is\n",
    "    good!'\n",
    "\n",
    "    >>> not_bad('This movie is not so bad')\n",
    "    'This movie is good'\n",
    "    >>> not_bad('This dinner is not that bad!')\n",
    "    'This dinner is good!'\n",
    "    >>> not_bad('This tea is not hot')\n",
    "    'This tea is not hot'\n",
    "    >>> not_bad(\"It's bad yet not\")\n",
    "    \"It's bad yet not\"\n",
    "    \"\"\"\n",
    "\n",
    "import re\n",
    "\n",
    "def not_bad(s):\n",
    "    return re.sub(r'not.*bad', 'good', s, flags=re.IGNORECASE)\n",
    "\n",
    "not_bad(\"This tea is not hot\")\n",
    "\n"
   ]
  },
  {
   "cell_type": "code",
   "execution_count": 167,
   "metadata": {
    "collapsed": false
   },
   "outputs": [
    {
     "data": {
      "text/plain": [
       "'abxcdy'"
      ]
     },
     "execution_count": 167,
     "metadata": {},
     "output_type": "execute_result"
    }
   ],
   "source": [
    "\"\"\"Q6: FRONT_BACK\n",
    "    \n",
    "    Consider dividing a string into two halves. If the length is even,\n",
    "    the front and back halves are the same length. If the length is\n",
    "    odd, we'll say that the extra char goes in the front half. e.g.\n",
    "    'abcde', the front half is 'abc', the back half 'de'. Given 2\n",
    "    strings, a and b, return a string of the form a-front + b-front +\n",
    "    a-back + b-back\n",
    "\n",
    "    >>> front_back('abcd', 'xy')\n",
    "    'abxcdy'\n",
    "    >>> front_back('abcde', 'xyz')\n",
    "    'abcxydez'\n",
    "    >>> front_back('Kitten', 'Donut')\n",
    "    'KitDontenut'\n",
    "\"\"\"\n",
    "\n",
    "def half_len(s):\n",
    "    if len(s) % 2 == 0:\n",
    "        half_len = int(len(s)/2)\n",
    "    else:\n",
    "        half_len = int(len(s)/2) + 1\n",
    "    return half_len\n",
    "\n",
    "\n",
    "def front_back(s1,s2):\n",
    "    s1_half = half_len(s1)\n",
    "    s2_half = half_len(s2)\n",
    "    \n",
    "    return s1[0:s1_half] + s2[0:s2_half] + s1[s1_half:] + s2[s2_half:]\n",
    "\n",
    "front_back('Kitten', 'Donut')\n"
   ]
  }
 ],
 "metadata": {
  "_draft": {
   "nbviewer_url": "https://gist.github.com/a2f79db22757a127a96d4dfbb2c8f905"
  },
  "gist": {
   "data": {
    "description": "metis-prework-5a.ipynb",
    "public": true
   },
   "id": "a2f79db22757a127a96d4dfbb2c8f905"
  },
  "kernelspec": {
   "display_name": "Python 3",
   "language": "python",
   "name": "python3"
  },
  "language_info": {
   "codemirror_mode": {
    "name": "ipython",
    "version": 3
   },
   "file_extension": ".py",
   "mimetype": "text/x-python",
   "name": "python",
   "nbconvert_exporter": "python",
   "pygments_lexer": "ipython3",
   "version": "3.5.1"
  }
 },
 "nbformat": 4,
 "nbformat_minor": 0
}
